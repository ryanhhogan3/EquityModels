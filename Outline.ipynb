{
 "cells": [
  {
   "cell_type": "code",
   "execution_count": 2,
   "id": "naughty-arrival",
   "metadata": {},
   "outputs": [],
   "source": [
    "import math\n",
    "import numpy as np\n",
    "import pandas as pd"
   ]
  },
  {
   "cell_type": "code",
   "execution_count": null,
   "id": "silent-curtis",
   "metadata": {},
   "outputs": [],
   "source": [
    "### Models fo Equity Valuations ###\n",
    "\n",
    "\n",
    "# Free Cash Flow Model #\n",
    "\n",
    "# Gordon (Constant) Growth Model #\n",
    "\n",
    "# Multi-Stage Dividend Dicount Model #\n",
    "\n",
    "# Multiplier Model #\n",
    "\n",
    "# Asset-Based Valuation Model #"
   ]
  }
 ],
 "metadata": {
  "kernelspec": {
   "display_name": "Python 3",
   "language": "python",
   "name": "python3"
  },
  "language_info": {
   "codemirror_mode": {
    "name": "ipython",
    "version": 3
   },
   "file_extension": ".py",
   "mimetype": "text/x-python",
   "name": "python",
   "nbconvert_exporter": "python",
   "pygments_lexer": "ipython3",
   "version": "3.9.1"
  }
 },
 "nbformat": 4,
 "nbformat_minor": 5
}

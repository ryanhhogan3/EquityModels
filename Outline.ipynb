{
 "cells": [
  {
   "cell_type": "code",
   "execution_count": 1,
   "id": "insured-equivalent",
   "metadata": {},
   "outputs": [],
   "source": [
    "import math\n",
    "import numpy as np\n",
    "import pandas as pd"
   ]
  },
  {
   "cell_type": "code",
   "execution_count": 2,
   "id": "welcome-midwest",
   "metadata": {},
   "outputs": [],
   "source": [
    "### Models fo Equity Valuations ###\n",
    "\n",
    "\n",
    "# Free Cash Flow Model #\n",
    "\n",
    "# Gordon (Constant) Growth Model #\n",
    "\n",
    "# Multi-Stage Dividend Dicount Model #\n",
    "\n",
    "# Multiplier Model #\n",
    "\n",
    "# Asset-Based Valuation Model #"
   ]
  },
  {
   "cell_type": "code",
   "execution_count": 3,
   "id": "pharmaceutical-hammer",
   "metadata": {},
   "outputs": [
    {
     "data": {
      "text/plain": [
       "['Gordongrowth',\n",
       " '__builtins__',\n",
       " '__cached__',\n",
       " '__doc__',\n",
       " '__file__',\n",
       " '__loader__',\n",
       " '__name__',\n",
       " '__package__',\n",
       " '__spec__',\n",
       " 'oneyearmodel',\n",
       " 'twoyearmodel']"
      ]
     },
     "execution_count": 3,
     "metadata": {},
     "output_type": "execute_result"
    }
   ],
   "source": [
    "import equitymodels as em\n",
    "dir(em)"
   ]
  },
  {
   "cell_type": "code",
   "execution_count": 4,
   "id": "military-delivery",
   "metadata": {},
   "outputs": [
    {
     "name": "stdout",
     "output_type": "stream",
     "text": [
      "Based on the One Year Holding Model, this stock's price is valued between: 177.05 and 195.68.\n"
     ]
    }
   ],
   "source": [
    "em.oneyearmodel(200, 5, 0.1)"
   ]
  },
  {
   "cell_type": "code",
   "execution_count": 5,
   "id": "worse-thursday",
   "metadata": {},
   "outputs": [
    {
     "name": "stdout",
     "output_type": "stream",
     "text": [
      "Based on the Two Year Holding Model, this stock's price is valued between: 5.28 and 5.83.\n"
     ]
    }
   ],
   "source": [
    "em.twoyearmodel(10,1,1,0.5)"
   ]
  },
  {
   "cell_type": "code",
   "execution_count": null,
   "id": "widespread-pepper",
   "metadata": {},
   "outputs": [],
   "source": []
  }
 ],
 "metadata": {
  "kernelspec": {
   "display_name": "Python 3",
   "language": "python",
   "name": "python3"
  },
  "language_info": {
   "codemirror_mode": {
    "name": "ipython",
    "version": 3
   },
   "file_extension": ".py",
   "mimetype": "text/x-python",
   "name": "python",
   "nbconvert_exporter": "python",
   "pygments_lexer": "ipython3",
   "version": "3.9.1"
  }
 },
 "nbformat": 4,
 "nbformat_minor": 5
}

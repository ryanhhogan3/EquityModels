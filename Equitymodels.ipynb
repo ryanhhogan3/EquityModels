{
 "cells": [
  {
   "cell_type": "code",
   "execution_count": 74,
   "id": "insured-grade",
   "metadata": {},
   "outputs": [],
   "source": [
    "### This is the interworkings and mathematics behind the equity models\n",
    "\n",
    "### Gordon (Constant) Growth Model module ###\n",
    "def Gordongrowth(dividend, costofeq, growthrate):\n",
    "    price = dividend / (costofeq - growthrate)\n",
    "    price1 = round(price * .95, 2)\n",
    "    price2 = round(price * 1.05, 2)\n",
    "    print(f\"Based on the Gordon Growth Model, this stock's price is valued between: {price1} and {price2}.\")\n",
    "\n",
    "### Multi-Stage (Double Year Holding Period) Dividend Discount Model module ###\n",
    "def doubleyearmodel(saleprice, dividend1, dividend2, costofeq):\n",
    "    value = (dividend1 / (1 + costofeq)) + (dividend2 / (1 + costofeq)**2) + (saleprice / (1 + costofeq)**2)\n",
    "    print(value)"
   ]
  },
  {
   "cell_type": "code",
   "execution_count": 75,
   "id": "chubby-remark",
   "metadata": {},
   "outputs": [
    {
     "name": "stdout",
     "output_type": "stream",
     "text": [
      "Based on the Gordon Growth Model, this stock's price is valued between: 475.0 and 525.0.\n"
     ]
    }
   ],
   "source": [
    "Gordongrowth(5, .08, 0.07)"
   ]
  },
  {
   "cell_type": "code",
   "execution_count": 77,
   "id": "commercial-emphasis",
   "metadata": {},
   "outputs": [
    {
     "name": "stdout",
     "output_type": "stream",
     "text": [
      "174.68774565464233\n"
     ]
    }
   ],
   "source": [
    "doubleyearmodel(200, 5, 20,.07)"
   ]
  },
  {
   "cell_type": "code",
   "execution_count": null,
   "id": "pursuant-graduate",
   "metadata": {},
   "outputs": [],
   "source": []
  }
 ],
 "metadata": {
  "kernelspec": {
   "display_name": "Python 3",
   "language": "python",
   "name": "python3"
  },
  "language_info": {
   "codemirror_mode": {
    "name": "ipython",
    "version": 3
   },
   "file_extension": ".py",
   "mimetype": "text/x-python",
   "name": "python",
   "nbconvert_exporter": "python",
   "pygments_lexer": "ipython3",
   "version": "3.9.1"
  }
 },
 "nbformat": 4,
 "nbformat_minor": 5
}

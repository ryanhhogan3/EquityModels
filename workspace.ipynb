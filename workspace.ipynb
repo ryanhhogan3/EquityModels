{
 "cells": [
  {
   "cell_type": "code",
   "execution_count": 20,
   "id": "blessed-guinea",
   "metadata": {},
   "outputs": [],
   "source": [
    "### This is the interworkings and mathematics behind the equity models\n",
    "\n",
    "### Gordon (Constant) Growth Model module ###\n",
    "def Gordongrowth(dividend, costofequity, growthrate):\n",
    "    price = dividend / (costofequity - growthrate)\n",
    "    price1 = round(price * .95, 2)\n",
    "    price2 = round(price * 1.05, 2)\n",
    "    print(f\"Based on the Gordon Growth Model, this stock's price is valued between: {price1} and {price2}.\")\n",
    "    \n",
    "### One Year Holding Perid\n",
    "def oneyearmodel(saleprice, dividend, costofequity):\n",
    "    price = (dividend + saleprice) / (1 + costofequity)\n",
    "    price1 = round(price * .95, 2)\n",
    "    price2 = round(price * 1.05, 2)\n",
    "    print(f\"Based on the One Year Holding Model, this stock's price is valued between: {price1} and {price2}.\")\n",
    "\n",
    "### Multi-Stage (Double Year Holding Period) Dividend Discount Model module ###\n",
    "def doubleyearmodel(saleprice, dividend1, dividend2, costofequity):\n",
    "    price = (dividend1 / (1 + costofequity)) + (dividend2 / (1 + costofequity)**2) + (saleprice / (1 + costofequity)**2)\n",
    "    price1 = round(price * .95, 2)\n",
    "    price2 = round(price * 1.05, 2)\n",
    "    print(f\"Based on the Two Year Holding Model, this stock's price is valued between: {price1} and {price2}.\")\n",
    "    \n",
    "### Free Cash Flow Model (uses same formula as GordonGrowth, substitutes dividends with Free Cash Flow per share)\n",
    "def Freecashflowmodel(FCFpershare, costofequity, growthrate):\n",
    "    price = FCFpershare / (costofequity - growthrate)\n",
    "    price1 = round(price * .95, 2)\n",
    "    price2 = round(price * 1.05, 2)\n",
    "    print(f\"Based on the Free Cash Flow Model, this stock's price is valued between: {price1} and {price2}.\")"
   ]
  }
 ],
 "metadata": {
  "kernelspec": {
   "display_name": "Python 3",
   "language": "python",
   "name": "python3"
  },
  "language_info": {
   "codemirror_mode": {
    "name": "ipython",
    "version": 3
   },
   "file_extension": ".py",
   "mimetype": "text/x-python",
   "name": "python",
   "nbconvert_exporter": "python",
   "pygments_lexer": "ipython3",
   "version": "3.9.1"
  }
 },
 "nbformat": 4,
 "nbformat_minor": 5
}

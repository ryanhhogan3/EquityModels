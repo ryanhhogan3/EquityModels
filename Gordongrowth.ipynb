{
 "cells": [
  {
   "cell_type": "code",
   "execution_count": 36,
   "id": "smaller-reference",
   "metadata": {},
   "outputs": [
    {
     "name": "stdout",
     "output_type": "stream",
     "text": [
      "Based on the Gordon Growth Model, this stock's price is valued between: 142.5 and 157.5.\n"
     ]
    }
   ],
   "source": [
    "### Gordon growth model module ###\n",
    "\n",
    "\n",
    "## Variables\n",
    "dividend = 3.75\n",
    "costofeq = .075\n",
    "growthrate = .05\n",
    "\n",
    "## Equation\n",
    "price = dividend / (costofeq - growthrate)\n",
    "price1 = round(price * .95, 2)\n",
    "price2 = round(price * 1.05, 2)\n",
    "\n",
    "print(f\"Based on the Gordon Growth Model, this stock's price is valued between: {price1} and {price2}.\")"
   ]
  },
  {
   "cell_type": "code",
   "execution_count": null,
   "id": "damaged-alexandria",
   "metadata": {},
   "outputs": [],
   "source": []
  }
 ],
 "metadata": {
  "kernelspec": {
   "display_name": "Python 3",
   "language": "python",
   "name": "python3"
  },
  "language_info": {
   "codemirror_mode": {
    "name": "ipython",
    "version": 3
   },
   "file_extension": ".py",
   "mimetype": "text/x-python",
   "name": "python",
   "nbconvert_exporter": "python",
   "pygments_lexer": "ipython3",
   "version": "3.9.1"
  }
 },
 "nbformat": 4,
 "nbformat_minor": 5
}
